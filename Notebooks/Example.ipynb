{
 "cells": [
  {
   "cell_type": "markdown",
   "metadata": {},
   "source": [
    "# <center> Hands-on Example with MGWR </center>\n",
    "\n",
    "**Notebook Outline:**  \n",
    "  \n",
    "**An example of hedonic house price modeling using MGWR**\n",
    "- [Introduction to the Dataset](#Introduction-to-the-Dataset)\n",
    "- [Loading the dataset](#Loading-the-Dataset)\n",
    "- [Spatial Weighting Kernels and other Options](#Spatial-Weighting-Kernels-and-other-Options) <br><br>\n",
    "\n",
    "[Back to the main page](https://mehak-sachdeva.github.io/MGWR_workshop_book/)\n"
   ]
  },
  {
   "cell_type": "markdown",
   "metadata": {},
   "source": [
    "# Introduction to the Dataset\n",
    "\n",
    "***\n",
    "\n",
    "### Please use [this link](https://github.com/mehak-sachdeva/Nagoya_University_workshop_2022/blob/main/data/census_tracts_final.csv) to directly download a csv of the dataset"
   ]
  },
  {
   "cell_type": "markdown",
   "metadata": {},
   "source": [
    "The raw data has been obtained from https://www.kaggle.com/harlfoxem/housesalesprediction.\n",
    "The data are cleaned and aggregated to the census tract level for King county, WA to make it smaller in size and manageable for the workshop."
   ]
  },
  {
   "cell_type": "markdown",
   "metadata": {},
   "source": [
    "### Study area and aggregation\n",
    "\n",
    "\n",
    "<img src=\"../images/aggregation.PNG\">"
   ]
  },
  {
   "cell_type": "markdown",
   "metadata": {},
   "source": [
    "### Aggregated dataset snapshot"
   ]
  },
  {
   "cell_type": "markdown",
   "metadata": {},
   "source": [
    "<img src=\"../images/data_structure_1.PNG\">"
   ]
  },
  {
   "cell_type": "markdown",
   "metadata": {},
   "source": [
    "- **houses** - number of houses in the census tracts\n",
    "\n",
    "**Dependent variables**\n",
    "\n",
    "- **avg_price** - average house prices in the census tracts\n",
    "        \n",
    "        OR\n",
    "\n",
    "- **ln_avg_price** - log-transformed average house prices in the census tracts\n",
    "\n",
    "**Independent variables**\n",
    "\n",
    "- **avg_tech** - average technology related jobs in the census tracts\n",
    "\n",
    "- **avg_unemp** - average unemployment rate in the census tracts\n",
    "\n",
    "- **avg_index** - average number of house with a view to the waterfront\n",
    "\n",
    "- **avg_basement** - average basements in the houses in the census tracts\n",
    "\n",
    "- **avg_water_dist** - average distance to nearest waterfronts from the houses in the census tracts\n",
    "\n",
    "- **avg_sqft** - average square footage of living area in houses in the census tracts\n",
    "\n",
    "- **avg_age** - average age of housing units in the census tracts"
   ]
  },
  {
   "cell_type": "markdown",
   "metadata": {},
   "source": [
    "#### Dependent variable distribution\n",
    "\n",
    "<img src=\"../images/data_hist.PNG\">"
   ]
  },
  {
   "cell_type": "markdown",
   "metadata": {},
   "source": [
    "#### Hence, we use the log-transformed dependent variable *ln_avg_price*"
   ]
  },
  {
   "cell_type": "markdown",
   "metadata": {},
   "source": [
    "# Loading the Dataset\n",
    "\n",
    "Open the [MGWR GUI software](https://sgsup.asu.edu/sparc/mgwr) on your desktop to follow along!\n",
    "\n"
   ]
  },
  {
   "cell_type": "markdown",
   "metadata": {},
   "source": [
    "At this stage I am going to do the steps elaborated below live. The screenshots of the steps below will guide you if you need additional reference.\n",
    "\n",
    "*Please note, the screenshots below are taken on a Windows system. If you are using the software on Mac, the interface might differ slightly.*"
   ]
  },
  {
   "cell_type": "markdown",
   "metadata": {},
   "source": [
    "### 1. Loading the dataset and variables"
   ]
  },
  {
   "cell_type": "markdown",
   "metadata": {},
   "source": [
    "<img src=\"../images/step_1.png\" width=\"700\">"
   ]
  },
  {
   "cell_type": "markdown",
   "metadata": {},
   "source": [
    "### 2. Load the dependent and independent variables"
   ]
  },
  {
   "cell_type": "markdown",
   "metadata": {},
   "source": [
    "<img src=\"../images/step_2.png\" width=\"700\">"
   ]
  },
  {
   "cell_type": "markdown",
   "metadata": {},
   "source": [
    "# Spatial Weighting Kernels and other Options"
   ]
  },
  {
   "cell_type": "markdown",
   "metadata": {},
   "source": [
    "<img src=\"../images/step_3.png\" width=\"700\">"
   ]
  },
  {
   "cell_type": "markdown",
   "metadata": {},
   "source": [
    "<img src=\"../images/spatial_weights.PNG\" width=\"700\">"
   ]
  },
  {
   "cell_type": "markdown",
   "metadata": {},
   "source": [
    "### Advanced options"
   ]
  },
  {
   "cell_type": "markdown",
   "metadata": {},
   "source": [
    "<img src=\"../images/advanced.png\" width=\"700\">"
   ]
  },
  {
   "cell_type": "markdown",
   "metadata": {},
   "source": [
    "[Next](http://mehak-sachdeva.github.io/MGWR_workshop_book/Html/Interpretation)\n",
    "\n",
    "[Previous](http://mehak-sachdeva.github.io/MGWR_workshop_book/Html/Methodology)\n",
    "\n",
    "[Back to the main page](https://mehak-sachdeva.github.io/MGWR_workshop_book/)"
   ]
  },
  {
   "cell_type": "markdown",
   "metadata": {},
   "source": [
    "***"
   ]
  }
 ],
 "metadata": {
  "kernelspec": {
   "display_name": "Python 3",
   "language": "python",
   "name": "python3"
  },
  "language_info": {
   "codemirror_mode": {
    "name": "ipython",
    "version": 3
   },
   "file_extension": ".py",
   "mimetype": "text/x-python",
   "name": "python",
   "nbconvert_exporter": "python",
   "pygments_lexer": "ipython3",
   "version": "3.6.6"
  }
 },
 "nbformat": 4,
 "nbformat_minor": 2
}